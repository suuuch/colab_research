{
  "nbformat": 4,
  "nbformat_minor": 0,
  "metadata": {
    "colab": {
      "provenance": [],
      "mount_file_id": "12ywYrRHNVUvt-VhOUlX5ScrJfknsvUCj",
      "authorship_tag": "ABX9TyMdNd31jTwc87uq4DN1rrfC",
      "include_colab_link": true
    },
    "kernelspec": {
      "name": "python3",
      "display_name": "Python 3"
    },
    "language_info": {
      "name": "python"
    }
  },
  "cells": [
    {
      "cell_type": "markdown",
      "metadata": {
        "id": "view-in-github",
        "colab_type": "text"
      },
      "source": [
        "<a href=\"https://colab.research.google.com/github/suuuch/colab_research/blob/main/read_file_from_google_driver.ipynb\" target=\"_parent\"><img src=\"https://colab.research.google.com/assets/colab-badge.svg\" alt=\"Open In Colab\"/></a>"
      ]
    },
    {
      "cell_type": "markdown",
      "source": [
        "# 挂载 google driver 文件夹"
      ],
      "metadata": {
        "id": "EKQerhH-Qy4w"
      }
    },
    {
      "cell_type": "code",
      "execution_count": null,
      "metadata": {
        "id": "oIjlzCLHPvC5"
      },
      "outputs": [],
      "source": [
        "from google.colab import drive\n",
        "drive.mount('/content/drive',force_remount=True)"
      ]
    },
    {
      "cell_type": "code",
      "source": [
        "cd drive/MyDrive/ServerData"
      ],
      "metadata": {
        "colab": {
          "base_uri": "https://localhost:8080/"
        },
        "id": "fHAX7j26P4KY",
        "outputId": "2448c7ca-1124-4bec-a333-57118a0dc37f"
      },
      "execution_count": null,
      "outputs": [
        {
          "output_type": "stream",
          "name": "stdout",
          "text": [
            "Mounted at /content/drive\n"
          ]
        }
      ]
    },
    {
      "cell_type": "code",
      "source": [
        "import pandas as pd"
      ],
      "metadata": {
        "id": "kglk85HbQczS"
      },
      "execution_count": null,
      "outputs": []
    },
    {
      "cell_type": "code",
      "source": [
        "df = pd.read_csv('ftnn_stock_trade_1m.csv')"
      ],
      "metadata": {
        "id": "s1UwjZ-2Qjw_"
      },
      "execution_count": null,
      "outputs": []
    },
    {
      "cell_type": "code",
      "source": [
        "df.head()"
      ],
      "metadata": {
        "colab": {
          "base_uri": "https://localhost:8080/",
          "height": 444
        },
        "id": "w4Y3fzGYQqPO",
        "outputId": "40485a46-8383-4cb2-877f-a432b455bd5c"
      },
      "execution_count": null,
      "outputs": [
        {
          "output_type": "execute_result",
          "data": {
            "text/plain": [
              "        code             time_key      open     close      high       low  \\\n",
              "0   HK.00700  2023-03-29 10:15:00    387.20    387.20    387.40    387.00   \n",
              "1  HK.800700  2023-03-29 10:15:00   4266.64   4266.28   4267.76   4265.11   \n",
              "2  HK.800000  2023-03-29 10:15:00  20234.58  20230.41  20236.37  20228.74   \n",
              "3   HK.00700  2023-03-29 10:17:00    386.60    387.20    387.20    386.20   \n",
              "4  HK.800700  2023-03-29 10:17:00   4260.22   4260.83   4260.89   4258.68   \n",
              "\n",
              "   volume      turnover  pe_ratio  turnover_rate  last_close  \\\n",
              "0   74400  2.880710e+07         0              0      387.20   \n",
              "1       0  1.566029e+08         0              0     4266.62   \n",
              "2       0  4.618981e+08         0              0    20235.08   \n",
              "3  136800  5.293081e+07         0              0      386.60   \n",
              "4       0  1.671857e+08         0              0     4260.69   \n",
              "\n",
              "                    etl_in_dt  change_rate  \n",
              "0  2023-03-29 10:15:27.729006          NaN  \n",
              "1  2023-03-29 10:15:27.738937          NaN  \n",
              "2  2023-03-29 10:15:27.746065          NaN  \n",
              "3  2023-03-29 10:17:39.630917          NaN  \n",
              "4  2023-03-29 10:17:39.638339          NaN  "
            ],
            "text/html": [
              "\n",
              "  <div id=\"df-41afd18c-6a73-4108-9a5e-97e8506bc46f\">\n",
              "    <div class=\"colab-df-container\">\n",
              "      <div>\n",
              "<style scoped>\n",
              "    .dataframe tbody tr th:only-of-type {\n",
              "        vertical-align: middle;\n",
              "    }\n",
              "\n",
              "    .dataframe tbody tr th {\n",
              "        vertical-align: top;\n",
              "    }\n",
              "\n",
              "    .dataframe thead th {\n",
              "        text-align: right;\n",
              "    }\n",
              "</style>\n",
              "<table border=\"1\" class=\"dataframe\">\n",
              "  <thead>\n",
              "    <tr style=\"text-align: right;\">\n",
              "      <th></th>\n",
              "      <th>code</th>\n",
              "      <th>time_key</th>\n",
              "      <th>open</th>\n",
              "      <th>close</th>\n",
              "      <th>high</th>\n",
              "      <th>low</th>\n",
              "      <th>volume</th>\n",
              "      <th>turnover</th>\n",
              "      <th>pe_ratio</th>\n",
              "      <th>turnover_rate</th>\n",
              "      <th>last_close</th>\n",
              "      <th>etl_in_dt</th>\n",
              "      <th>change_rate</th>\n",
              "    </tr>\n",
              "  </thead>\n",
              "  <tbody>\n",
              "    <tr>\n",
              "      <th>0</th>\n",
              "      <td>HK.00700</td>\n",
              "      <td>2023-03-29 10:15:00</td>\n",
              "      <td>387.20</td>\n",
              "      <td>387.20</td>\n",
              "      <td>387.40</td>\n",
              "      <td>387.00</td>\n",
              "      <td>74400</td>\n",
              "      <td>2.880710e+07</td>\n",
              "      <td>0</td>\n",
              "      <td>0</td>\n",
              "      <td>387.20</td>\n",
              "      <td>2023-03-29 10:15:27.729006</td>\n",
              "      <td>NaN</td>\n",
              "    </tr>\n",
              "    <tr>\n",
              "      <th>1</th>\n",
              "      <td>HK.800700</td>\n",
              "      <td>2023-03-29 10:15:00</td>\n",
              "      <td>4266.64</td>\n",
              "      <td>4266.28</td>\n",
              "      <td>4267.76</td>\n",
              "      <td>4265.11</td>\n",
              "      <td>0</td>\n",
              "      <td>1.566029e+08</td>\n",
              "      <td>0</td>\n",
              "      <td>0</td>\n",
              "      <td>4266.62</td>\n",
              "      <td>2023-03-29 10:15:27.738937</td>\n",
              "      <td>NaN</td>\n",
              "    </tr>\n",
              "    <tr>\n",
              "      <th>2</th>\n",
              "      <td>HK.800000</td>\n",
              "      <td>2023-03-29 10:15:00</td>\n",
              "      <td>20234.58</td>\n",
              "      <td>20230.41</td>\n",
              "      <td>20236.37</td>\n",
              "      <td>20228.74</td>\n",
              "      <td>0</td>\n",
              "      <td>4.618981e+08</td>\n",
              "      <td>0</td>\n",
              "      <td>0</td>\n",
              "      <td>20235.08</td>\n",
              "      <td>2023-03-29 10:15:27.746065</td>\n",
              "      <td>NaN</td>\n",
              "    </tr>\n",
              "    <tr>\n",
              "      <th>3</th>\n",
              "      <td>HK.00700</td>\n",
              "      <td>2023-03-29 10:17:00</td>\n",
              "      <td>386.60</td>\n",
              "      <td>387.20</td>\n",
              "      <td>387.20</td>\n",
              "      <td>386.20</td>\n",
              "      <td>136800</td>\n",
              "      <td>5.293081e+07</td>\n",
              "      <td>0</td>\n",
              "      <td>0</td>\n",
              "      <td>386.60</td>\n",
              "      <td>2023-03-29 10:17:39.630917</td>\n",
              "      <td>NaN</td>\n",
              "    </tr>\n",
              "    <tr>\n",
              "      <th>4</th>\n",
              "      <td>HK.800700</td>\n",
              "      <td>2023-03-29 10:17:00</td>\n",
              "      <td>4260.22</td>\n",
              "      <td>4260.83</td>\n",
              "      <td>4260.89</td>\n",
              "      <td>4258.68</td>\n",
              "      <td>0</td>\n",
              "      <td>1.671857e+08</td>\n",
              "      <td>0</td>\n",
              "      <td>0</td>\n",
              "      <td>4260.69</td>\n",
              "      <td>2023-03-29 10:17:39.638339</td>\n",
              "      <td>NaN</td>\n",
              "    </tr>\n",
              "  </tbody>\n",
              "</table>\n",
              "</div>\n",
              "      <button class=\"colab-df-convert\" onclick=\"convertToInteractive('df-41afd18c-6a73-4108-9a5e-97e8506bc46f')\"\n",
              "              title=\"Convert this dataframe to an interactive table.\"\n",
              "              style=\"display:none;\">\n",
              "        \n",
              "  <svg xmlns=\"http://www.w3.org/2000/svg\" height=\"24px\"viewBox=\"0 0 24 24\"\n",
              "       width=\"24px\">\n",
              "    <path d=\"M0 0h24v24H0V0z\" fill=\"none\"/>\n",
              "    <path d=\"M18.56 5.44l.94 2.06.94-2.06 2.06-.94-2.06-.94-.94-2.06-.94 2.06-2.06.94zm-11 1L8.5 8.5l.94-2.06 2.06-.94-2.06-.94L8.5 2.5l-.94 2.06-2.06.94zm10 10l.94 2.06.94-2.06 2.06-.94-2.06-.94-.94-2.06-.94 2.06-2.06.94z\"/><path d=\"M17.41 7.96l-1.37-1.37c-.4-.4-.92-.59-1.43-.59-.52 0-1.04.2-1.43.59L10.3 9.45l-7.72 7.72c-.78.78-.78 2.05 0 2.83L4 21.41c.39.39.9.59 1.41.59.51 0 1.02-.2 1.41-.59l7.78-7.78 2.81-2.81c.8-.78.8-2.07 0-2.86zM5.41 20L4 18.59l7.72-7.72 1.47 1.35L5.41 20z\"/>\n",
              "  </svg>\n",
              "      </button>\n",
              "      \n",
              "  <style>\n",
              "    .colab-df-container {\n",
              "      display:flex;\n",
              "      flex-wrap:wrap;\n",
              "      gap: 12px;\n",
              "    }\n",
              "\n",
              "    .colab-df-convert {\n",
              "      background-color: #E8F0FE;\n",
              "      border: none;\n",
              "      border-radius: 50%;\n",
              "      cursor: pointer;\n",
              "      display: none;\n",
              "      fill: #1967D2;\n",
              "      height: 32px;\n",
              "      padding: 0 0 0 0;\n",
              "      width: 32px;\n",
              "    }\n",
              "\n",
              "    .colab-df-convert:hover {\n",
              "      background-color: #E2EBFA;\n",
              "      box-shadow: 0px 1px 2px rgba(60, 64, 67, 0.3), 0px 1px 3px 1px rgba(60, 64, 67, 0.15);\n",
              "      fill: #174EA6;\n",
              "    }\n",
              "\n",
              "    [theme=dark] .colab-df-convert {\n",
              "      background-color: #3B4455;\n",
              "      fill: #D2E3FC;\n",
              "    }\n",
              "\n",
              "    [theme=dark] .colab-df-convert:hover {\n",
              "      background-color: #434B5C;\n",
              "      box-shadow: 0px 1px 3px 1px rgba(0, 0, 0, 0.15);\n",
              "      filter: drop-shadow(0px 1px 2px rgba(0, 0, 0, 0.3));\n",
              "      fill: #FFFFFF;\n",
              "    }\n",
              "  </style>\n",
              "\n",
              "      <script>\n",
              "        const buttonEl =\n",
              "          document.querySelector('#df-41afd18c-6a73-4108-9a5e-97e8506bc46f button.colab-df-convert');\n",
              "        buttonEl.style.display =\n",
              "          google.colab.kernel.accessAllowed ? 'block' : 'none';\n",
              "\n",
              "        async function convertToInteractive(key) {\n",
              "          const element = document.querySelector('#df-41afd18c-6a73-4108-9a5e-97e8506bc46f');\n",
              "          const dataTable =\n",
              "            await google.colab.kernel.invokeFunction('convertToInteractive',\n",
              "                                                     [key], {});\n",
              "          if (!dataTable) return;\n",
              "\n",
              "          const docLinkHtml = 'Like what you see? Visit the ' +\n",
              "            '<a target=\"_blank\" href=https://colab.research.google.com/notebooks/data_table.ipynb>data table notebook</a>'\n",
              "            + ' to learn more about interactive tables.';\n",
              "          element.innerHTML = '';\n",
              "          dataTable['output_type'] = 'display_data';\n",
              "          await google.colab.output.renderOutput(dataTable, element);\n",
              "          const docLink = document.createElement('div');\n",
              "          docLink.innerHTML = docLinkHtml;\n",
              "          element.appendChild(docLink);\n",
              "        }\n",
              "      </script>\n",
              "    </div>\n",
              "  </div>\n",
              "  "
            ]
          },
          "metadata": {},
          "execution_count": 9
        }
      ]
    },
    {
      "cell_type": "code",
      "source": [],
      "metadata": {
        "id": "tzuk_ZfVQq8Y"
      },
      "execution_count": null,
      "outputs": []
    }
  ]
}